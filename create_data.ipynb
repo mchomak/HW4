{
 "cells": [
  {
   "cell_type": "code",
   "execution_count": 7,
   "metadata": {},
   "outputs": [],
   "source": [
    "import pandas as pd\n",
    "import os"
   ]
  },
  {
   "cell_type": "code",
   "execution_count": 33,
   "metadata": {},
   "outputs": [],
   "source": [
    "# # Сброс ограничений на количество выводимых рядов\n",
    "# pd.set_option('display.max_rows', None)\n",
    "\n",
    "# # Сброс ограничений на число столбцов\n",
    "# pd.set_option('display.max_columns', None)\n",
    "\n",
    "# # Сброс ограничений на количество символов в записи\n",
    "# pd.set_option('display.max_colwidth', None)"
   ]
  },
  {
   "cell_type": "code",
   "execution_count": 34,
   "metadata": {},
   "outputs": [],
   "source": [
    "# df2 = pd.read_csv(os.path.join(os.getcwd(), \"data\", \"0_info.csv\"))\n",
    "# df2[\"ID\"] = 0\n",
    "# df2.to_csv(os.path.join(os.getcwd(), \"data\", \"0_info.csv\"), index= False)"
   ]
  },
  {
   "cell_type": "code",
   "execution_count": 16,
   "metadata": {},
   "outputs": [
    {
     "name": "stdout",
     "output_type": "stream",
     "text": [
      "['0_info.csv', '1_info.csv', '2_info.csv', '3_info.csv', '4_info.csv', '5_info.csv', '6_info.csv', '7_info.csv', '8_info.csv']\n",
      "0_info.csv (5105, 5)\n",
      "1_info.csv (4041, 5)\n",
      "2_info.csv (2929, 5)\n",
      "3_info.csv (1257, 5)\n",
      "4_info.csv (2954, 5)\n",
      "5_info.csv (2473, 5)\n",
      "6_info.csv (1740, 5)\n",
      "7_info.csv (2776, 5)\n",
      "8_info.csv (2754, 5)\n"
     ]
    }
   ],
   "source": [
    "files = os.listdir(os.path.join(os.getcwd(), \"data\", \"main_data\"))\n",
    "print(files)\n",
    "main_df = pd.DataFrame()\n",
    "for file in files:\n",
    "    if \"csv\" in file:\n",
    "        df = pd.read_csv(os.path.join(os.getcwd(), \"data\", \"main_data\", file))\n",
    "        df = df[['ID', 'url', 'headers', 'sub_headers', 'text']]\n",
    "        print(file, df.shape)\n",
    "        df = df.drop_duplicates()\n",
    "        df = df.dropna(subset=[\"text\"])\n",
    "        if df.shape[0] > 3000:\n",
    "            df  = df.sample(n = 3000)\n",
    "            \n",
    "        main_df = pd.concat([main_df, df])"
   ]
  },
  {
   "cell_type": "code",
   "execution_count": 17,
   "metadata": {},
   "outputs": [
    {
     "data": {
      "text/html": [
       "<div>\n",
       "<style scoped>\n",
       "    .dataframe tbody tr th:only-of-type {\n",
       "        vertical-align: middle;\n",
       "    }\n",
       "\n",
       "    .dataframe tbody tr th {\n",
       "        vertical-align: top;\n",
       "    }\n",
       "\n",
       "    .dataframe thead th {\n",
       "        text-align: right;\n",
       "    }\n",
       "</style>\n",
       "<table border=\"1\" class=\"dataframe\">\n",
       "  <thead>\n",
       "    <tr style=\"text-align: right;\">\n",
       "      <th></th>\n",
       "      <th>ID</th>\n",
       "      <th>url</th>\n",
       "      <th>headers</th>\n",
       "      <th>sub_headers</th>\n",
       "      <th>text</th>\n",
       "    </tr>\n",
       "  </thead>\n",
       "  <tbody>\n",
       "    <tr>\n",
       "      <th>2577</th>\n",
       "      <td>0</td>\n",
       "      <td>https://ria.ru/20240206/patrushev-1925675352.html</td>\n",
       "      <td>Патрушев назвал факторы высоких рисков вспышек...</td>\n",
       "      <td>Патрушев: Урал подвержен высоким рискам вспыше...</td>\n",
       "      <td>КУРГАН, 6 фев - РИА Новости. Урал подвержен вы...</td>\n",
       "    </tr>\n",
       "    <tr>\n",
       "      <th>3844</th>\n",
       "      <td>0</td>\n",
       "      <td>https://ria.ru/20240108/deti-1920143868.html</td>\n",
       "      <td>Воронежская область готова принять 300 белгоро...</td>\n",
       "      <td>Воронежские власти подготовят 300 мест для дет...</td>\n",
       "      <td>ВОРОНЕЖ, 8 янв - РИА Новости. Воронежская обла...</td>\n",
       "    </tr>\n",
       "    <tr>\n",
       "      <th>1751</th>\n",
       "      <td>0</td>\n",
       "      <td>https://ria.ru/20240225/festival-1929386668.html</td>\n",
       "      <td>На Всемирном фестивале молодежи задействуют ок...</td>\n",
       "      <td>На ВФМ-2024 задействуют около 28 тысяч волонте...</td>\n",
       "      <td>СИРИУС, 25 фев — РИА Новости. Около 28 тысяч в...</td>\n",
       "    </tr>\n",
       "    <tr>\n",
       "      <th>931</th>\n",
       "      <td>0</td>\n",
       "      <td>https://ria.ru/20240315/pogoda-1933128243.html</td>\n",
       "      <td>Москвичам рассказали о погоде в пятницу</td>\n",
       "      <td>Синоптик Леус: в Москве в пятницу ожидается до...</td>\n",
       "      <td>МОСКВА, 15 мар - РИА Новости. Без осадков и до...</td>\n",
       "    </tr>\n",
       "    <tr>\n",
       "      <th>1246</th>\n",
       "      <td>0</td>\n",
       "      <td>https://ria.ru/20240306/gimn-1931542984.html</td>\n",
       "      <td>Тысячи участников Всемирного фестиваля молодеж...</td>\n",
       "      <td>Тысячи участников ВФМ спели гимн России в посл...</td>\n",
       "      <td>СИРИУС, 6 мар - РИА Новости. Тысячи участников...</td>\n",
       "    </tr>\n",
       "  </tbody>\n",
       "</table>\n",
       "</div>"
      ],
      "text/plain": [
       "      ID                                                url  \\\n",
       "2577   0  https://ria.ru/20240206/patrushev-1925675352.html   \n",
       "3844   0       https://ria.ru/20240108/deti-1920143868.html   \n",
       "1751   0   https://ria.ru/20240225/festival-1929386668.html   \n",
       "931    0     https://ria.ru/20240315/pogoda-1933128243.html   \n",
       "1246   0       https://ria.ru/20240306/gimn-1931542984.html   \n",
       "\n",
       "                                                headers  \\\n",
       "2577  Патрушев назвал факторы высоких рисков вспышек...   \n",
       "3844  Воронежская область готова принять 300 белгоро...   \n",
       "1751  На Всемирном фестивале молодежи задействуют ок...   \n",
       "931             Москвичам рассказали о погоде в пятницу   \n",
       "1246  Тысячи участников Всемирного фестиваля молодеж...   \n",
       "\n",
       "                                            sub_headers  \\\n",
       "2577  Патрушев: Урал подвержен высоким рискам вспыше...   \n",
       "3844  Воронежские власти подготовят 300 мест для дет...   \n",
       "1751  На ВФМ-2024 задействуют около 28 тысяч волонте...   \n",
       "931   Синоптик Леус: в Москве в пятницу ожидается до...   \n",
       "1246  Тысячи участников ВФМ спели гимн России в посл...   \n",
       "\n",
       "                                                   text  \n",
       "2577  КУРГАН, 6 фев - РИА Новости. Урал подвержен вы...  \n",
       "3844  ВОРОНЕЖ, 8 янв - РИА Новости. Воронежская обла...  \n",
       "1751  СИРИУС, 25 фев — РИА Новости. Около 28 тысяч в...  \n",
       "931   МОСКВА, 15 мар - РИА Новости. Без осадков и до...  \n",
       "1246  СИРИУС, 6 мар - РИА Новости. Тысячи участников...  "
      ]
     },
     "execution_count": 17,
     "metadata": {},
     "output_type": "execute_result"
    }
   ],
   "source": [
    "main_df.head()"
   ]
  },
  {
   "cell_type": "code",
   "execution_count": 18,
   "metadata": {},
   "outputs": [],
   "source": [
    "main_df = main_df[['ID', 'url', 'headers', 'sub_headers', 'text']]\n",
    "main_df[\"ID\"] = main_df[\"ID\"].astype(int)"
   ]
  },
  {
   "cell_type": "code",
   "execution_count": 19,
   "metadata": {},
   "outputs": [
    {
     "data": {
      "text/plain": [
       "(22883, 5)"
      ]
     },
     "execution_count": 19,
     "metadata": {},
     "output_type": "execute_result"
    }
   ],
   "source": [
    "main_df.shape"
   ]
  },
  {
   "cell_type": "code",
   "execution_count": 20,
   "metadata": {},
   "outputs": [],
   "source": [
    "main_df.to_csv(\"data/df_3000.csv\", index= False)"
   ]
  },
  {
   "cell_type": "code",
   "execution_count": 21,
   "metadata": {},
   "outputs": [],
   "source": [
    "# %pip install ydata-profiling\n",
    "from ydata_profiling import ProfileReport\n",
    "def create_profile_report(df, name=\"Report\"):\n",
    "  report = ProfileReport(df, title='My Data')\n",
    "  report.to_file(f\"{name}.html\")"
   ]
  },
  {
   "cell_type": "code",
   "execution_count": 22,
   "metadata": {},
   "outputs": [
    {
     "data": {
      "application/vnd.jupyter.widget-view+json": {
       "model_id": "9d8210f96c864a28b82ec5224fa81db6",
       "version_major": 2,
       "version_minor": 0
      },
      "text/plain": [
       "Summarize dataset:   0%|          | 0/5 [00:00<?, ?it/s]"
      ]
     },
     "metadata": {},
     "output_type": "display_data"
    },
    {
     "data": {
      "application/vnd.jupyter.widget-view+json": {
       "model_id": "d6647c0835fa42419e797716e650a52d",
       "version_major": 2,
       "version_minor": 0
      },
      "text/plain": [
       "Generate report structure:   0%|          | 0/1 [00:00<?, ?it/s]"
      ]
     },
     "metadata": {},
     "output_type": "display_data"
    },
    {
     "data": {
      "application/vnd.jupyter.widget-view+json": {
       "model_id": "1bd5b1802d3a4ffcab9652c4c7bf0000",
       "version_major": 2,
       "version_minor": 0
      },
      "text/plain": [
       "Render HTML:   0%|          | 0/1 [00:00<?, ?it/s]"
      ]
     },
     "metadata": {},
     "output_type": "display_data"
    },
    {
     "data": {
      "application/vnd.jupyter.widget-view+json": {
       "model_id": "b68cd542d63a42859ec2a6d0ba437de6",
       "version_major": 2,
       "version_minor": 0
      },
      "text/plain": [
       "Export report to file:   0%|          | 0/1 [00:00<?, ?it/s]"
      ]
     },
     "metadata": {},
     "output_type": "display_data"
    }
   ],
   "source": [
    "create_profile_report(main_df, name=\"df_3000\")"
   ]
  }
 ],
 "metadata": {
  "kernelspec": {
   "display_name": "Python 3",
   "language": "python",
   "name": "python3"
  },
  "language_info": {
   "codemirror_mode": {
    "name": "ipython",
    "version": 3
   },
   "file_extension": ".py",
   "mimetype": "text/x-python",
   "name": "python",
   "nbconvert_exporter": "python",
   "pygments_lexer": "ipython3",
   "version": "3.10.0"
  }
 },
 "nbformat": 4,
 "nbformat_minor": 2
}
