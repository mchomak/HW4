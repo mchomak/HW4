{
 "cells": [
  {
   "cell_type": "code",
   "execution_count": 32,
   "metadata": {},
   "outputs": [],
   "source": [
    "import pandas as pd\n",
    "import os"
   ]
  },
  {
   "cell_type": "code",
   "execution_count": 33,
   "metadata": {},
   "outputs": [],
   "source": [
    "# # Сброс ограничений на количество выводимых рядов\n",
    "# pd.set_option('display.max_rows', None)\n",
    "\n",
    "# # Сброс ограничений на число столбцов\n",
    "# pd.set_option('display.max_columns', None)\n",
    "\n",
    "# # Сброс ограничений на количество символов в записи\n",
    "# pd.set_option('display.max_colwidth', None)"
   ]
  },
  {
   "cell_type": "code",
   "execution_count": 34,
   "metadata": {},
   "outputs": [],
   "source": [
    "# df2 = pd.read_csv(os.path.join(os.getcwd(), \"data\", \"0_info.csv\"))\n",
    "# df2[\"ID\"] = 0\n",
    "# df2.to_csv(os.path.join(os.getcwd(), \"data\", \"0_info.csv\"), index= False)"
   ]
  },
  {
   "cell_type": "code",
   "execution_count": 61,
   "metadata": {},
   "outputs": [
    {
     "name": "stdout",
     "output_type": "stream",
     "text": [
      "['0_info.csv', '1_info.csv', '2_info.csv', '3_info.csv', '4_info.csv', '5_info.csv', '6_info.csv', '7_info.csv', '8_info.csv', 'Build', 'CCCR', 'Defence', 'Economy', 'Health', 'Since', 'Social', 'Sport', 'Tourism']\n",
      "0_info.csv (5105, 5)\n",
      "1_info.csv (4041, 5)\n",
      "2_info.csv (2929, 5)\n",
      "3_info.csv (1257, 5)\n",
      "4_info.csv (2954, 5)\n",
      "5_info.csv (2473, 5)\n",
      "6_info.csv (1740, 5)\n",
      "7_info.csv (2776, 5)\n",
      "8_info.csv (2754, 5)\n"
     ]
    }
   ],
   "source": [
    "files = os.listdir(os.path.join(os.getcwd(), \"data\"))\n",
    "print(files)\n",
    "main_df = pd.DataFrame()\n",
    "for file in files:\n",
    "    if \"csv\" in file:\n",
    "        df = pd.read_csv(os.path.join(os.getcwd(), \"data\", file))\n",
    "        df = df[['ID', 'url', 'headers', 'sub_headers', 'text']]\n",
    "        print(file, df.shape)\n",
    "        df  = df.sample(n = 1250)\n",
    "        # df = df.drop_duplicates()\n",
    "        # df = df.dropna(subset=[\"text\"])\n",
    "        # df.to_csv(os.path.join(os.getcwd(), \"data\", file), index= False)\n",
    "        main_df = pd.concat([main_df, df])"
   ]
  },
  {
   "cell_type": "code",
   "execution_count": 62,
   "metadata": {},
   "outputs": [],
   "source": [
    "main_df = main_df[['ID', 'url', 'headers', 'sub_headers', 'text']]\n",
    "main_df[\"ID\"] = main_df[\"ID\"].astype(int)"
   ]
  },
  {
   "cell_type": "code",
   "execution_count": 63,
   "metadata": {},
   "outputs": [
    {
     "data": {
      "text/plain": [
       "(11250, 5)"
      ]
     },
     "execution_count": 63,
     "metadata": {},
     "output_type": "execute_result"
    }
   ],
   "source": [
    "main_df.shape"
   ]
  },
  {
   "cell_type": "code",
   "execution_count": 65,
   "metadata": {},
   "outputs": [],
   "source": [
    "main_df.to_csv(\"data/df_1250.csv\", index= False)"
   ]
  },
  {
   "cell_type": "code",
   "execution_count": 66,
   "metadata": {},
   "outputs": [],
   "source": [
    "# %pip install ydata-profiling\n",
    "from ydata_profiling import ProfileReport\n",
    "def create_profile_report(df, name=\"Report\"):\n",
    "  report = ProfileReport(df, title='My Data')\n",
    "  report.to_file(f\"{name}.html\")"
   ]
  },
  {
   "cell_type": "code",
   "execution_count": 67,
   "metadata": {},
   "outputs": [
    {
     "data": {
      "application/vnd.jupyter.widget-view+json": {
       "model_id": "f11afc3997434a6bb07eb201bfb5227a",
       "version_major": 2,
       "version_minor": 0
      },
      "text/plain": [
       "Summarize dataset:   0%|          | 0/5 [00:00<?, ?it/s]"
      ]
     },
     "metadata": {},
     "output_type": "display_data"
    },
    {
     "data": {
      "application/vnd.jupyter.widget-view+json": {
       "model_id": "4d76e6c68c2d40279436aa22444f3424",
       "version_major": 2,
       "version_minor": 0
      },
      "text/plain": [
       "Generate report structure:   0%|          | 0/1 [00:00<?, ?it/s]"
      ]
     },
     "metadata": {},
     "output_type": "display_data"
    },
    {
     "data": {
      "application/vnd.jupyter.widget-view+json": {
       "model_id": "dd4ce6afe10e4207b261a1640258c0f2",
       "version_major": 2,
       "version_minor": 0
      },
      "text/plain": [
       "Render HTML:   0%|          | 0/1 [00:00<?, ?it/s]"
      ]
     },
     "metadata": {},
     "output_type": "display_data"
    },
    {
     "data": {
      "application/vnd.jupyter.widget-view+json": {
       "model_id": "bcedfcbfcb66498da5ba0dc7f6ec53bf",
       "version_major": 2,
       "version_minor": 0
      },
      "text/plain": [
       "Export report to file:   0%|          | 0/1 [00:00<?, ?it/s]"
      ]
     },
     "metadata": {},
     "output_type": "display_data"
    }
   ],
   "source": [
    "create_profile_report(main_df, name=\"df_1250\")"
   ]
  }
 ],
 "metadata": {
  "kernelspec": {
   "display_name": "Python 3",
   "language": "python",
   "name": "python3"
  },
  "language_info": {
   "codemirror_mode": {
    "name": "ipython",
    "version": 3
   },
   "file_extension": ".py",
   "mimetype": "text/x-python",
   "name": "python",
   "nbconvert_exporter": "python",
   "pygments_lexer": "ipython3",
   "version": "3.10.0"
  }
 },
 "nbformat": 4,
 "nbformat_minor": 2
}
