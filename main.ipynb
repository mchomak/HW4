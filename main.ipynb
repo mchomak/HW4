{
 "cells": [
  {
   "cell_type": "code",
   "execution_count": 1,
   "metadata": {},
   "outputs": [],
   "source": [
    "import pandas as pd\n",
    "import os"
   ]
  },
  {
   "cell_type": "code",
   "execution_count": 2,
   "metadata": {},
   "outputs": [],
   "source": [
    "# Сброс ограничений на количество выводимых рядов\n",
    "pd.set_option('display.max_rows', None)\n",
    "\n",
    "# Сброс ограничений на число столбцов\n",
    "pd.set_option('display.max_columns', None)\n",
    "\n",
    "# Сброс ограничений на количество символов в записи\n",
    "pd.set_option('display.max_colwidth', None)"
   ]
  },
  {
   "cell_type": "code",
   "execution_count": 42,
   "metadata": {},
   "outputs": [
    {
     "name": "stdout",
     "output_type": "stream",
     "text": [
      "['cccr_1.csv', 'cccr_2.csv', 'cccr_3.csv', 'cccr_4.csv', 'cccr_5.csv', 'cccr_6.csv']\n"
     ]
    }
   ],
   "source": [
    "files = os.listdir(os.path.join(os.getcwd(), \"data\", \"CCCR\"))\n",
    "print(files)\n",
    "main_df = pd.DataFrame(columns=[\"URL\"])\n",
    "for file in files:\n",
    "    # if str(file)[:1] == \"7\":\n",
    "    df = pd.read_csv(os.path.join(os.getcwd(), \"data\", \"CCCR\", file))\n",
    "    # df = df.sample(n = 334)\n",
    "    main_df = pd.concat([main_df, df])"
   ]
  },
  {
   "cell_type": "code",
   "execution_count": 43,
   "metadata": {},
   "outputs": [
    {
     "data": {
      "text/plain": [
       "(1288, 2)"
      ]
     },
     "execution_count": 43,
     "metadata": {},
     "output_type": "execute_result"
    }
   ],
   "source": [
    "main_df.shape"
   ]
  },
  {
   "cell_type": "code",
   "execution_count": 44,
   "metadata": {},
   "outputs": [
    {
     "data": {
      "text/html": [
       "<div>\n",
       "<style scoped>\n",
       "    .dataframe tbody tr th:only-of-type {\n",
       "        vertical-align: middle;\n",
       "    }\n",
       "\n",
       "    .dataframe tbody tr th {\n",
       "        vertical-align: top;\n",
       "    }\n",
       "\n",
       "    .dataframe thead th {\n",
       "        text-align: right;\n",
       "    }\n",
       "</style>\n",
       "<table border=\"1\" class=\"dataframe\">\n",
       "  <thead>\n",
       "    <tr style=\"text-align: right;\">\n",
       "      <th></th>\n",
       "      <th>URL</th>\n",
       "      <th>Unnamed: 0</th>\n",
       "    </tr>\n",
       "  </thead>\n",
       "  <tbody>\n",
       "    <tr>\n",
       "      <th>0</th>\n",
       "      <td>https://lenta.ru/news/2024/04/08/v-litve-soobschili-o-pribytii-pervoy-brigady-bundesvera/</td>\n",
       "      <td>1.0</td>\n",
       "    </tr>\n",
       "    <tr>\n",
       "      <th>1</th>\n",
       "      <td>https://lenta.ru/news/2024/04/08/posolstvo-rossii-v-litve-zabrosali-butylkami-s-zazhigatelnoy-smesyu/</td>\n",
       "      <td>2.0</td>\n",
       "    </tr>\n",
       "    <tr>\n",
       "      <th>2</th>\n",
       "      <td>https://lenta.ru/news/2024/04/07/vsu-nanesli-seriyu-udarov-po-krupneyshey-v-evrope-atomnoy-stantsii-kakie-povrezhdeniya-ona-poluchila/</td>\n",
       "      <td>3.0</td>\n",
       "    </tr>\n",
       "    <tr>\n",
       "      <th>3</th>\n",
       "      <td>https://lenta.ru/news/2024/04/05/v-estonii-zayavili-o-15-kratnom-prevoshodstve-vs-rossii-nad-vsu/</td>\n",
       "      <td>4.0</td>\n",
       "    </tr>\n",
       "    <tr>\n",
       "      <th>4</th>\n",
       "      <td>https://lenta.ru/news/2024/04/04/v-estonii-nazvali-neprioritetnym-chlenstvo-ukrainy-v-nato/</td>\n",
       "      <td>5.0</td>\n",
       "    </tr>\n",
       "  </tbody>\n",
       "</table>\n",
       "</div>"
      ],
      "text/plain": [
       "                                                                                                                                      URL  \\\n",
       "0                                               https://lenta.ru/news/2024/04/08/v-litve-soobschili-o-pribytii-pervoy-brigady-bundesvera/   \n",
       "1                                   https://lenta.ru/news/2024/04/08/posolstvo-rossii-v-litve-zabrosali-butylkami-s-zazhigatelnoy-smesyu/   \n",
       "2  https://lenta.ru/news/2024/04/07/vsu-nanesli-seriyu-udarov-po-krupneyshey-v-evrope-atomnoy-stantsii-kakie-povrezhdeniya-ona-poluchila/   \n",
       "3                                       https://lenta.ru/news/2024/04/05/v-estonii-zayavili-o-15-kratnom-prevoshodstve-vs-rossii-nad-vsu/   \n",
       "4                                             https://lenta.ru/news/2024/04/04/v-estonii-nazvali-neprioritetnym-chlenstvo-ukrainy-v-nato/   \n",
       "\n",
       "   Unnamed: 0  \n",
       "0         1.0  \n",
       "1         2.0  \n",
       "2         3.0  \n",
       "3         4.0  \n",
       "4         5.0  "
      ]
     },
     "execution_count": 44,
     "metadata": {},
     "output_type": "execute_result"
    }
   ],
   "source": [
    "main_df.head()"
   ]
  },
  {
   "cell_type": "code",
   "execution_count": 53,
   "metadata": {},
   "outputs": [],
   "source": [
    "df = main_df.copy()"
   ]
  },
  {
   "cell_type": "code",
   "execution_count": 54,
   "metadata": {},
   "outputs": [],
   "source": [
    "df = df[[\"URL\"]]"
   ]
  },
  {
   "cell_type": "code",
   "execution_count": 55,
   "metadata": {},
   "outputs": [
    {
     "data": {
      "text/html": [
       "<div>\n",
       "<style scoped>\n",
       "    .dataframe tbody tr th:only-of-type {\n",
       "        vertical-align: middle;\n",
       "    }\n",
       "\n",
       "    .dataframe tbody tr th {\n",
       "        vertical-align: top;\n",
       "    }\n",
       "\n",
       "    .dataframe thead th {\n",
       "        text-align: right;\n",
       "    }\n",
       "</style>\n",
       "<table border=\"1\" class=\"dataframe\">\n",
       "  <thead>\n",
       "    <tr style=\"text-align: right;\">\n",
       "      <th></th>\n",
       "      <th>URL</th>\n",
       "    </tr>\n",
       "  </thead>\n",
       "  <tbody>\n",
       "    <tr>\n",
       "      <th>0</th>\n",
       "      <td>https://lenta.ru/news/2024/04/08/v-litve-soobschili-o-pribytii-pervoy-brigady-bundesvera/</td>\n",
       "    </tr>\n",
       "    <tr>\n",
       "      <th>1</th>\n",
       "      <td>https://lenta.ru/news/2024/04/08/posolstvo-rossii-v-litve-zabrosali-butylkami-s-zazhigatelnoy-smesyu/</td>\n",
       "    </tr>\n",
       "    <tr>\n",
       "      <th>2</th>\n",
       "      <td>https://lenta.ru/news/2024/04/07/vsu-nanesli-seriyu-udarov-po-krupneyshey-v-evrope-atomnoy-stantsii-kakie-povrezhdeniya-ona-poluchila/</td>\n",
       "    </tr>\n",
       "    <tr>\n",
       "      <th>3</th>\n",
       "      <td>https://lenta.ru/news/2024/04/05/v-estonii-zayavili-o-15-kratnom-prevoshodstve-vs-rossii-nad-vsu/</td>\n",
       "    </tr>\n",
       "    <tr>\n",
       "      <th>4</th>\n",
       "      <td>https://lenta.ru/news/2024/04/04/v-estonii-nazvali-neprioritetnym-chlenstvo-ukrainy-v-nato/</td>\n",
       "    </tr>\n",
       "  </tbody>\n",
       "</table>\n",
       "</div>"
      ],
      "text/plain": [
       "                                                                                                                                      URL\n",
       "0                                               https://lenta.ru/news/2024/04/08/v-litve-soobschili-o-pribytii-pervoy-brigady-bundesvera/\n",
       "1                                   https://lenta.ru/news/2024/04/08/posolstvo-rossii-v-litve-zabrosali-butylkami-s-zazhigatelnoy-smesyu/\n",
       "2  https://lenta.ru/news/2024/04/07/vsu-nanesli-seriyu-udarov-po-krupneyshey-v-evrope-atomnoy-stantsii-kakie-povrezhdeniya-ona-poluchila/\n",
       "3                                       https://lenta.ru/news/2024/04/05/v-estonii-zayavili-o-15-kratnom-prevoshodstve-vs-rossii-nad-vsu/\n",
       "4                                             https://lenta.ru/news/2024/04/04/v-estonii-nazvali-neprioritetnym-chlenstvo-ukrainy-v-nato/"
      ]
     },
     "execution_count": 55,
     "metadata": {},
     "output_type": "execute_result"
    }
   ],
   "source": [
    "df.head()"
   ]
  },
  {
   "cell_type": "code",
   "execution_count": 56,
   "metadata": {},
   "outputs": [
    {
     "data": {
      "text/plain": [
       "(1257, 1)"
      ]
     },
     "execution_count": 56,
     "metadata": {},
     "output_type": "execute_result"
    }
   ],
   "source": [
    "df = df.dropna().drop_duplicates()\n",
    "df.shape"
   ]
  },
  {
   "cell_type": "code",
   "execution_count": 58,
   "metadata": {},
   "outputs": [
    {
     "data": {
      "text/html": [
       "<div>\n",
       "<style scoped>\n",
       "    .dataframe tbody tr th:only-of-type {\n",
       "        vertical-align: middle;\n",
       "    }\n",
       "\n",
       "    .dataframe tbody tr th {\n",
       "        vertical-align: top;\n",
       "    }\n",
       "\n",
       "    .dataframe thead th {\n",
       "        text-align: right;\n",
       "    }\n",
       "</style>\n",
       "<table border=\"1\" class=\"dataframe\">\n",
       "  <thead>\n",
       "    <tr style=\"text-align: right;\">\n",
       "      <th></th>\n",
       "      <th>URL</th>\n",
       "    </tr>\n",
       "  </thead>\n",
       "  <tbody>\n",
       "    <tr>\n",
       "      <th>0</th>\n",
       "      <td>https://lenta.ru/news/2024/04/08/v-litve-soobschili-o-pribytii-pervoy-brigady-bundesvera/</td>\n",
       "    </tr>\n",
       "  </tbody>\n",
       "</table>\n",
       "</div>"
      ],
      "text/plain": [
       "                                                                                         URL\n",
       "0  https://lenta.ru/news/2024/04/08/v-litve-soobschili-o-pribytii-pervoy-brigady-bundesvera/"
      ]
     },
     "execution_count": 58,
     "metadata": {},
     "output_type": "execute_result"
    }
   ],
   "source": [
    "df.to_csv(\"data/6_info.csv\", index=False)\n",
    "df.head(1)"
   ]
  }
 ],
 "metadata": {
  "kernelspec": {
   "display_name": "Python 3",
   "language": "python",
   "name": "python3"
  },
  "language_info": {
   "codemirror_mode": {
    "name": "ipython",
    "version": 3
   },
   "file_extension": ".py",
   "mimetype": "text/x-python",
   "name": "python",
   "nbconvert_exporter": "python",
   "pygments_lexer": "ipython3",
   "version": "3.10.0"
  }
 },
 "nbformat": 4,
 "nbformat_minor": 2
}
