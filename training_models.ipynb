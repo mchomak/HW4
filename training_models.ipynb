{
 "cells": [
  {
   "cell_type": "markdown",
   "metadata": {},
   "source": [
    "# Set Up"
   ]
  },
  {
   "cell_type": "code",
   "execution_count": 235,
   "metadata": {},
   "outputs": [
    {
     "name": "stderr",
     "output_type": "stream",
     "text": [
      "[nltk_data] Downloading package stopwords to\n",
      "[nltk_data]     C:\\Users\\Mchomak\\AppData\\Roaming\\nltk_data...\n",
      "[nltk_data]   Package stopwords is already up-to-date!\n",
      "[nltk_data] Downloading package punkt to\n",
      "[nltk_data]     C:\\Users\\Mchomak\\AppData\\Roaming\\nltk_data...\n",
      "[nltk_data]   Package punkt is already up-to-date!\n"
     ]
    }
   ],
   "source": [
    "import numpy as np\n",
    "from gensim.models import Word2Vec\n",
    "from sklearn.model_selection import GridSearchCV\n",
    "from sklearn.neighbors import KNeighborsClassifier\n",
    "from pymorphy2 import MorphAnalyzer\n",
    "from sklearn.ensemble import RandomForestClassifier\n",
    "import pandas as pd\n",
    "from sklearn.model_selection import train_test_split\n",
    "from sklearn.linear_model import LogisticRegression\n",
    "from sklearn.model_selection import cross_val_score\n",
    "from sklearn.feature_extraction.text import CountVectorizer\n",
    "from imblearn.under_sampling import RandomUnderSampler\n",
    "from imblearn.over_sampling import RandomOverSampler\n",
    "from sklearn.model_selection import ParameterSampler\n",
    "import nltk\n",
    "nltk.download('stopwords')\n",
    "nltk.download('punkt')\n",
    "from nltk.tokenize import word_tokenize\n",
    "import re\n",
    "from nltk.corpus import stopwords\n",
    "from string import punctuation\n",
    "\n",
    "\n",
    "import torch\n",
    "import transformers as ppb\n",
    "from sklearn.pipeline import Pipeline\n",
    "from sklearn.pipeline import make_pipeline\n",
    "from sklearn.preprocessing import MaxAbsScaler\n",
    "import seaborn as sns\n",
    "from sklearn.metrics import classification_report, accuracy_score\n",
    "from sklearn.linear_model import LogisticRegressionCV\n",
    "import pickle\n",
    "\n",
    "import matplotlib\n",
    "from matplotlib import pyplot as plt\n",
    "\n",
    "import warnings\n",
    "warnings.filterwarnings('ignore')"
   ]
  },
  {
   "cell_type": "code",
   "execution_count": 190,
   "metadata": {},
   "outputs": [
    {
     "data": {
      "text/plain": [
       "(11250, 5)"
      ]
     },
     "execution_count": 190,
     "metadata": {},
     "output_type": "execute_result"
    }
   ],
   "source": [
    "df = pd.read_csv(\"data/df_1250.csv\")\n",
    "df.shape"
   ]
  },
  {
   "cell_type": "markdown",
   "metadata": {},
   "source": [
    "# Predprocessing"
   ]
  },
  {
   "cell_type": "code",
   "execution_count": 191,
   "metadata": {},
   "outputs": [],
   "source": [
    "df['combined_text'] = df[['headers', 'sub_headers', 'text']].fillna('').apply(lambda x: ' '.join(x[x != '']), axis=1)"
   ]
  },
  {
   "cell_type": "code",
   "execution_count": 192,
   "metadata": {},
   "outputs": [],
   "source": [
    "df = df.drop(columns= [\"url\", 'headers', 'sub_headers', 'text'])"
   ]
  },
  {
   "cell_type": "code",
   "execution_count": 193,
   "metadata": {},
   "outputs": [
    {
     "name": "stdout",
     "output_type": "stream",
     "text": [
      "(11250, 1) (11250, 1)\n"
     ]
    }
   ],
   "source": [
    "X = df[[\"combined_text\"]]\n",
    "y = df[[\"ID\"]]\n",
    "print(X.shape, y.shape)"
   ]
  },
  {
   "cell_type": "code",
   "execution_count": 195,
   "metadata": {},
   "outputs": [],
   "source": [
    "def save_model(model, name):\n",
    "    with open(f'{name}.pkl','wb') as f:\n",
    "        pickle.dump(model, f)"
   ]
  },
  {
   "cell_type": "code",
   "execution_count": 196,
   "metadata": {},
   "outputs": [],
   "source": [
    "def clean_text(text):\n",
    "    # Лемматизация считается 10000 лет и не высчитывается не знаю в чем проблема( помогите\n",
    "    # morph = MorphAnalyzer()\n",
    "    stop_words = set(stopwords.words('russian'))\n",
    "\n",
    "    # Очистка текста от всей пунткуации\n",
    "    text = text.translate(str.maketrans('', '', punctuation))\n",
    "\n",
    "    # Очистка текста от всех символов, кроме букв\n",
    "    text =  re.sub(r'[^а-яёА-ЯЁ]', ' ', text)\n",
    "\n",
    "    # нижний регистр\n",
    "    text = text.lower()\n",
    "\n",
    "    # токинизируем\n",
    "    text = word_tokenize(text)\n",
    "    \n",
    "    # убираем стоп слова\n",
    "    filtered_words = []\n",
    "    for word in text:\n",
    "        if word not in stop_words:\n",
    "            filtered_words.append(word)\n",
    "            # filtered_words.append(morph.parse(word)[0].normal_form)\n",
    "\n",
    "    text = ' '.join(filtered_words)\n",
    "    return text"
   ]
  },
  {
   "cell_type": "code",
   "execution_count": 197,
   "metadata": {},
   "outputs": [],
   "source": [
    "X[\"combined_text\"] = X[\"combined_text\"].apply(clean_text).dropna()"
   ]
  },
  {
   "cell_type": "code",
   "execution_count": 198,
   "metadata": {},
   "outputs": [],
   "source": [
    "X_train, X_test, y_train, y_test = train_test_split(X[[\"combined_text\"]], y[\"ID\"], random_state=42)"
   ]
  },
  {
   "cell_type": "code",
   "execution_count": 199,
   "metadata": {},
   "outputs": [
    {
     "data": {
      "text/html": [
       "<div>\n",
       "<style scoped>\n",
       "    .dataframe tbody tr th:only-of-type {\n",
       "        vertical-align: middle;\n",
       "    }\n",
       "\n",
       "    .dataframe tbody tr th {\n",
       "        vertical-align: top;\n",
       "    }\n",
       "\n",
       "    .dataframe thead th {\n",
       "        text-align: right;\n",
       "    }\n",
       "</style>\n",
       "<table border=\"1\" class=\"dataframe\">\n",
       "  <thead>\n",
       "    <tr style=\"text-align: right;\">\n",
       "      <th></th>\n",
       "      <th>combined_text</th>\n",
       "    </tr>\n",
       "  </thead>\n",
       "  <tbody>\n",
       "    <tr>\n",
       "      <th>6004</th>\n",
       "      <td>диас масвидаль проведут поединок правилам бокс...</td>\n",
       "    </tr>\n",
       "    <tr>\n",
       "      <th>7620</th>\n",
       "      <td>донстрой выполнил монолитных работ образовател...</td>\n",
       "    </tr>\n",
       "    <tr>\n",
       "      <th>10039</th>\n",
       "      <td>наука близка значительным успехам лечении рака...</td>\n",
       "    </tr>\n",
       "    <tr>\n",
       "      <th>8399</th>\n",
       "      <td>определено техрешение оптимизации стоимости ле...</td>\n",
       "    </tr>\n",
       "    <tr>\n",
       "      <th>5652</th>\n",
       "      <td>переход тикнизяна зенит сорвался изза вопросов...</td>\n",
       "    </tr>\n",
       "    <tr>\n",
       "      <th>...</th>\n",
       "      <td>...</td>\n",
       "    </tr>\n",
       "    <tr>\n",
       "      <th>5734</th>\n",
       "      <td>сын тихонова перейдет енисей сын тихонова пере...</td>\n",
       "    </tr>\n",
       "    <tr>\n",
       "      <th>5191</th>\n",
       "      <td>вяльбе похвалила клебо феноменальную разделку ...</td>\n",
       "    </tr>\n",
       "    <tr>\n",
       "      <th>5390</th>\n",
       "      <td>мишина галлямов лидируют короткой программы эт...</td>\n",
       "    </tr>\n",
       "    <tr>\n",
       "      <th>860</th>\n",
       "      <td>москвичам рассказали погоде вторник тишковец м...</td>\n",
       "    </tr>\n",
       "    <tr>\n",
       "      <th>7270</th>\n",
       "      <td>диетолог рассказала последствиях отказа хлеба ...</td>\n",
       "    </tr>\n",
       "  </tbody>\n",
       "</table>\n",
       "<p>8437 rows × 1 columns</p>\n",
       "</div>"
      ],
      "text/plain": [
       "                                           combined_text\n",
       "6004   диас масвидаль проведут поединок правилам бокс...\n",
       "7620   донстрой выполнил монолитных работ образовател...\n",
       "10039  наука близка значительным успехам лечении рака...\n",
       "8399   определено техрешение оптимизации стоимости ле...\n",
       "5652   переход тикнизяна зенит сорвался изза вопросов...\n",
       "...                                                  ...\n",
       "5734   сын тихонова перейдет енисей сын тихонова пере...\n",
       "5191   вяльбе похвалила клебо феноменальную разделку ...\n",
       "5390   мишина галлямов лидируют короткой программы эт...\n",
       "860    москвичам рассказали погоде вторник тишковец м...\n",
       "7270   диетолог рассказала последствиях отказа хлеба ...\n",
       "\n",
       "[8437 rows x 1 columns]"
      ]
     },
     "execution_count": 199,
     "metadata": {},
     "output_type": "execute_result"
    }
   ],
   "source": [
    "X_train"
   ]
  },
  {
   "cell_type": "code",
   "execution_count": 200,
   "metadata": {},
   "outputs": [
    {
     "data": {
      "text/html": [
       "<div>\n",
       "<style scoped>\n",
       "    .dataframe tbody tr th:only-of-type {\n",
       "        vertical-align: middle;\n",
       "    }\n",
       "\n",
       "    .dataframe tbody tr th {\n",
       "        vertical-align: top;\n",
       "    }\n",
       "\n",
       "    .dataframe thead th {\n",
       "        text-align: right;\n",
       "    }\n",
       "</style>\n",
       "<table border=\"1\" class=\"dataframe\">\n",
       "  <thead>\n",
       "    <tr style=\"text-align: right;\">\n",
       "      <th></th>\n",
       "      <th>combined_text</th>\n",
       "    </tr>\n",
       "  </thead>\n",
       "  <tbody>\n",
       "    <tr>\n",
       "      <th>6004</th>\n",
       "      <td>диас масвидаль проведут поединок правилам бокс...</td>\n",
       "    </tr>\n",
       "    <tr>\n",
       "      <th>7620</th>\n",
       "      <td>донстрой выполнил монолитных работ образовател...</td>\n",
       "    </tr>\n",
       "    <tr>\n",
       "      <th>10039</th>\n",
       "      <td>наука близка значительным успехам лечении рака...</td>\n",
       "    </tr>\n",
       "    <tr>\n",
       "      <th>8399</th>\n",
       "      <td>определено техрешение оптимизации стоимости ле...</td>\n",
       "    </tr>\n",
       "    <tr>\n",
       "      <th>5652</th>\n",
       "      <td>переход тикнизяна зенит сорвался изза вопросов...</td>\n",
       "    </tr>\n",
       "    <tr>\n",
       "      <th>...</th>\n",
       "      <td>...</td>\n",
       "    </tr>\n",
       "    <tr>\n",
       "      <th>5734</th>\n",
       "      <td>сын тихонова перейдет енисей сын тихонова пере...</td>\n",
       "    </tr>\n",
       "    <tr>\n",
       "      <th>5191</th>\n",
       "      <td>вяльбе похвалила клебо феноменальную разделку ...</td>\n",
       "    </tr>\n",
       "    <tr>\n",
       "      <th>5390</th>\n",
       "      <td>мишина галлямов лидируют короткой программы эт...</td>\n",
       "    </tr>\n",
       "    <tr>\n",
       "      <th>860</th>\n",
       "      <td>москвичам рассказали погоде вторник тишковец м...</td>\n",
       "    </tr>\n",
       "    <tr>\n",
       "      <th>7270</th>\n",
       "      <td>диетолог рассказала последствиях отказа хлеба ...</td>\n",
       "    </tr>\n",
       "  </tbody>\n",
       "</table>\n",
       "<p>8437 rows × 1 columns</p>\n",
       "</div>"
      ],
      "text/plain": [
       "                                           combined_text\n",
       "6004   диас масвидаль проведут поединок правилам бокс...\n",
       "7620   донстрой выполнил монолитных работ образовател...\n",
       "10039  наука близка значительным успехам лечении рака...\n",
       "8399   определено техрешение оптимизации стоимости ле...\n",
       "5652   переход тикнизяна зенит сорвался изза вопросов...\n",
       "...                                                  ...\n",
       "5734   сын тихонова перейдет енисей сын тихонова пере...\n",
       "5191   вяльбе похвалила клебо феноменальную разделку ...\n",
       "5390   мишина галлямов лидируют короткой программы эт...\n",
       "860    москвичам рассказали погоде вторник тишковец м...\n",
       "7270   диетолог рассказала последствиях отказа хлеба ...\n",
       "\n",
       "[8437 rows x 1 columns]"
      ]
     },
     "execution_count": 200,
     "metadata": {},
     "output_type": "execute_result"
    }
   ],
   "source": [
    "X_train"
   ]
  },
  {
   "cell_type": "code",
   "execution_count": 201,
   "metadata": {},
   "outputs": [
    {
     "data": {
      "text/plain": [
       "(22275291, 41090040)"
      ]
     },
     "execution_count": 201,
     "metadata": {},
     "output_type": "execute_result"
    }
   ],
   "source": [
    "sent = [row.split() for row in X_train[\"combined_text\"]]\n",
    "\n",
    "HIDDEN = 100\n",
    "\n",
    "model = Word2Vec(min_count=20,\n",
    "                  window=2,\n",
    "                  vector_size=HIDDEN,\n",
    "                  sample=6e-5,\n",
    "                  alpha=0.03,\n",
    "                  min_alpha=0.0007,\n",
    "                  negative=20,\n",
    "                  workers=2)\n",
    "model.build_vocab(sent, progress_per=10000)\n",
    "model.train(sent, total_examples=model.corpus_count, epochs=30, report_delay=1)"
   ]
  },
  {
   "cell_type": "code",
   "execution_count": 222,
   "metadata": {},
   "outputs": [],
   "source": [
    "def get_mean_w2v_vector(sentence):\n",
    "    Sum = np.zeros(HIDDEN)\n",
    "    Count = 0\n",
    "\n",
    "    try:\n",
    "        words = sentence.split()\n",
    "    except TypeError:\n",
    "        words = []\n",
    "\n",
    "    for w in words:\n",
    "        if w in model.wv:\n",
    "            Sum += model.wv[w]\n",
    "            Count += 1\n",
    "\n",
    "    if Count == 0:\n",
    "        return Sum  # Возвращаем нулевой вектор, если нет слов в модели\n",
    "\n",
    "    return Sum / Count"
   ]
  },
  {
   "cell_type": "code",
   "execution_count": 223,
   "metadata": {},
   "outputs": [],
   "source": [
    "def w2v_processing(X, y = None):\n",
    "    NewCols = ['col' + str(i) for i in range(HIDDEN)]\n",
    "    X['vectors'] = X[\"combined_text\"].map(get_mean_w2v_vector)\n",
    "\n",
    "    Idx = []\n",
    "\n",
    "    for ix, row in X.iterrows():\n",
    "        if not isinstance(row['vectors'], np.ndarray):\n",
    "            Idx.append(ix)\n",
    "    \n",
    "    X.drop(index=Idx, inplace=True)\n",
    "\n",
    "    if y is not None:\n",
    "        y = y.drop(index=Idx)\n",
    "\n",
    "    X[NewCols] = pd.DataFrame(X['vectors'].tolist(), index=X.index)\n",
    "\n",
    "    X.drop([\"combined_text\",'vectors'], axis=1, inplace=True)\n",
    "\n",
    "    return X, y"
   ]
  },
  {
   "cell_type": "code",
   "execution_count": 206,
   "metadata": {},
   "outputs": [],
   "source": [
    "X_train, y_train = w2v_processing(X_train, y_train)\n",
    "X_test, y_test = w2v_processing(X_test, y_test)"
   ]
  },
  {
   "cell_type": "code",
   "execution_count": 207,
   "metadata": {},
   "outputs": [
    {
     "data": {
      "text/html": [
       "<div>\n",
       "<style scoped>\n",
       "    .dataframe tbody tr th:only-of-type {\n",
       "        vertical-align: middle;\n",
       "    }\n",
       "\n",
       "    .dataframe tbody tr th {\n",
       "        vertical-align: top;\n",
       "    }\n",
       "\n",
       "    .dataframe thead th {\n",
       "        text-align: right;\n",
       "    }\n",
       "</style>\n",
       "<table border=\"1\" class=\"dataframe\">\n",
       "  <thead>\n",
       "    <tr style=\"text-align: right;\">\n",
       "      <th></th>\n",
       "      <th>col0</th>\n",
       "      <th>col1</th>\n",
       "      <th>col2</th>\n",
       "      <th>col3</th>\n",
       "      <th>col4</th>\n",
       "      <th>col5</th>\n",
       "      <th>col6</th>\n",
       "      <th>col7</th>\n",
       "      <th>col8</th>\n",
       "      <th>col9</th>\n",
       "      <th>...</th>\n",
       "      <th>col90</th>\n",
       "      <th>col91</th>\n",
       "      <th>col92</th>\n",
       "      <th>col93</th>\n",
       "      <th>col94</th>\n",
       "      <th>col95</th>\n",
       "      <th>col96</th>\n",
       "      <th>col97</th>\n",
       "      <th>col98</th>\n",
       "      <th>col99</th>\n",
       "    </tr>\n",
       "  </thead>\n",
       "  <tbody>\n",
       "    <tr>\n",
       "      <th>6004</th>\n",
       "      <td>-0.131073</td>\n",
       "      <td>0.269280</td>\n",
       "      <td>0.920324</td>\n",
       "      <td>0.179975</td>\n",
       "      <td>-0.097885</td>\n",
       "      <td>-0.457157</td>\n",
       "      <td>0.215255</td>\n",
       "      <td>0.313429</td>\n",
       "      <td>-0.384135</td>\n",
       "      <td>0.115947</td>\n",
       "      <td>...</td>\n",
       "      <td>0.317792</td>\n",
       "      <td>0.075763</td>\n",
       "      <td>0.587511</td>\n",
       "      <td>-0.179349</td>\n",
       "      <td>0.250120</td>\n",
       "      <td>-0.390737</td>\n",
       "      <td>0.031795</td>\n",
       "      <td>-0.187795</td>\n",
       "      <td>0.030913</td>\n",
       "      <td>0.454198</td>\n",
       "    </tr>\n",
       "    <tr>\n",
       "      <th>7620</th>\n",
       "      <td>-0.180560</td>\n",
       "      <td>0.650230</td>\n",
       "      <td>0.550954</td>\n",
       "      <td>-0.260067</td>\n",
       "      <td>0.524423</td>\n",
       "      <td>-0.260696</td>\n",
       "      <td>0.110234</td>\n",
       "      <td>0.025104</td>\n",
       "      <td>0.079398</td>\n",
       "      <td>0.032359</td>\n",
       "      <td>...</td>\n",
       "      <td>0.106018</td>\n",
       "      <td>0.159904</td>\n",
       "      <td>0.001088</td>\n",
       "      <td>0.176684</td>\n",
       "      <td>0.017323</td>\n",
       "      <td>-0.288850</td>\n",
       "      <td>0.067044</td>\n",
       "      <td>-0.056375</td>\n",
       "      <td>-0.059306</td>\n",
       "      <td>-0.137998</td>\n",
       "    </tr>\n",
       "    <tr>\n",
       "      <th>10039</th>\n",
       "      <td>-0.149871</td>\n",
       "      <td>0.026913</td>\n",
       "      <td>-0.114367</td>\n",
       "      <td>0.131186</td>\n",
       "      <td>0.165109</td>\n",
       "      <td>-0.172803</td>\n",
       "      <td>-0.116495</td>\n",
       "      <td>0.445070</td>\n",
       "      <td>-0.311511</td>\n",
       "      <td>0.167410</td>\n",
       "      <td>...</td>\n",
       "      <td>0.197470</td>\n",
       "      <td>0.117493</td>\n",
       "      <td>-0.168813</td>\n",
       "      <td>-0.377488</td>\n",
       "      <td>0.085581</td>\n",
       "      <td>0.091185</td>\n",
       "      <td>0.182234</td>\n",
       "      <td>-0.485311</td>\n",
       "      <td>0.040401</td>\n",
       "      <td>-0.175425</td>\n",
       "    </tr>\n",
       "    <tr>\n",
       "      <th>8399</th>\n",
       "      <td>0.140008</td>\n",
       "      <td>0.376308</td>\n",
       "      <td>0.177216</td>\n",
       "      <td>0.069007</td>\n",
       "      <td>0.344654</td>\n",
       "      <td>-0.445870</td>\n",
       "      <td>-0.099103</td>\n",
       "      <td>0.235592</td>\n",
       "      <td>-0.000284</td>\n",
       "      <td>-0.145447</td>\n",
       "      <td>...</td>\n",
       "      <td>0.516927</td>\n",
       "      <td>-0.053089</td>\n",
       "      <td>-0.344913</td>\n",
       "      <td>0.008824</td>\n",
       "      <td>0.036404</td>\n",
       "      <td>0.218453</td>\n",
       "      <td>0.122188</td>\n",
       "      <td>-0.108021</td>\n",
       "      <td>0.128908</td>\n",
       "      <td>0.027127</td>\n",
       "    </tr>\n",
       "    <tr>\n",
       "      <th>5652</th>\n",
       "      <td>0.166061</td>\n",
       "      <td>0.178930</td>\n",
       "      <td>0.637712</td>\n",
       "      <td>0.021134</td>\n",
       "      <td>0.094804</td>\n",
       "      <td>-0.451073</td>\n",
       "      <td>0.078919</td>\n",
       "      <td>0.131754</td>\n",
       "      <td>-0.371247</td>\n",
       "      <td>-0.018009</td>\n",
       "      <td>...</td>\n",
       "      <td>0.257828</td>\n",
       "      <td>-0.168240</td>\n",
       "      <td>0.139962</td>\n",
       "      <td>0.180786</td>\n",
       "      <td>0.408216</td>\n",
       "      <td>0.064149</td>\n",
       "      <td>-0.150265</td>\n",
       "      <td>-0.300923</td>\n",
       "      <td>-0.113087</td>\n",
       "      <td>0.341556</td>\n",
       "    </tr>\n",
       "    <tr>\n",
       "      <th>...</th>\n",
       "      <td>...</td>\n",
       "      <td>...</td>\n",
       "      <td>...</td>\n",
       "      <td>...</td>\n",
       "      <td>...</td>\n",
       "      <td>...</td>\n",
       "      <td>...</td>\n",
       "      <td>...</td>\n",
       "      <td>...</td>\n",
       "      <td>...</td>\n",
       "      <td>...</td>\n",
       "      <td>...</td>\n",
       "      <td>...</td>\n",
       "      <td>...</td>\n",
       "      <td>...</td>\n",
       "      <td>...</td>\n",
       "      <td>...</td>\n",
       "      <td>...</td>\n",
       "      <td>...</td>\n",
       "      <td>...</td>\n",
       "      <td>...</td>\n",
       "    </tr>\n",
       "    <tr>\n",
       "      <th>5734</th>\n",
       "      <td>0.050953</td>\n",
       "      <td>0.189848</td>\n",
       "      <td>0.525397</td>\n",
       "      <td>0.110373</td>\n",
       "      <td>0.266401</td>\n",
       "      <td>-0.506104</td>\n",
       "      <td>0.445564</td>\n",
       "      <td>0.128665</td>\n",
       "      <td>-0.241012</td>\n",
       "      <td>0.165371</td>\n",
       "      <td>...</td>\n",
       "      <td>0.198572</td>\n",
       "      <td>-0.230530</td>\n",
       "      <td>0.128304</td>\n",
       "      <td>0.006540</td>\n",
       "      <td>0.375182</td>\n",
       "      <td>-0.138050</td>\n",
       "      <td>-0.113100</td>\n",
       "      <td>-0.485668</td>\n",
       "      <td>-0.333654</td>\n",
       "      <td>0.591043</td>\n",
       "    </tr>\n",
       "    <tr>\n",
       "      <th>5191</th>\n",
       "      <td>0.013950</td>\n",
       "      <td>0.059312</td>\n",
       "      <td>0.307494</td>\n",
       "      <td>0.067910</td>\n",
       "      <td>0.300975</td>\n",
       "      <td>-0.385790</td>\n",
       "      <td>0.435438</td>\n",
       "      <td>0.383348</td>\n",
       "      <td>-1.054843</td>\n",
       "      <td>0.581307</td>\n",
       "      <td>...</td>\n",
       "      <td>0.363379</td>\n",
       "      <td>-0.689159</td>\n",
       "      <td>0.298918</td>\n",
       "      <td>-0.189828</td>\n",
       "      <td>0.256581</td>\n",
       "      <td>-0.569366</td>\n",
       "      <td>-0.220929</td>\n",
       "      <td>-0.347891</td>\n",
       "      <td>-0.109501</td>\n",
       "      <td>0.284591</td>\n",
       "    </tr>\n",
       "    <tr>\n",
       "      <th>5390</th>\n",
       "      <td>-0.312654</td>\n",
       "      <td>0.117613</td>\n",
       "      <td>0.627009</td>\n",
       "      <td>0.338947</td>\n",
       "      <td>0.412120</td>\n",
       "      <td>-0.243837</td>\n",
       "      <td>-0.155320</td>\n",
       "      <td>-0.146757</td>\n",
       "      <td>-0.531193</td>\n",
       "      <td>0.036206</td>\n",
       "      <td>...</td>\n",
       "      <td>0.390864</td>\n",
       "      <td>-0.327408</td>\n",
       "      <td>0.199008</td>\n",
       "      <td>0.187205</td>\n",
       "      <td>0.250709</td>\n",
       "      <td>-0.209011</td>\n",
       "      <td>0.141522</td>\n",
       "      <td>-0.431505</td>\n",
       "      <td>-0.095398</td>\n",
       "      <td>0.095299</td>\n",
       "    </tr>\n",
       "    <tr>\n",
       "      <th>860</th>\n",
       "      <td>-0.090113</td>\n",
       "      <td>0.354084</td>\n",
       "      <td>0.109905</td>\n",
       "      <td>0.040800</td>\n",
       "      <td>0.255334</td>\n",
       "      <td>0.015545</td>\n",
       "      <td>-0.280851</td>\n",
       "      <td>0.243885</td>\n",
       "      <td>-0.017260</td>\n",
       "      <td>0.160016</td>\n",
       "      <td>...</td>\n",
       "      <td>0.298281</td>\n",
       "      <td>0.116908</td>\n",
       "      <td>0.246539</td>\n",
       "      <td>0.088547</td>\n",
       "      <td>0.148385</td>\n",
       "      <td>0.097623</td>\n",
       "      <td>-0.200409</td>\n",
       "      <td>-0.281371</td>\n",
       "      <td>-0.062842</td>\n",
       "      <td>-0.149323</td>\n",
       "    </tr>\n",
       "    <tr>\n",
       "      <th>7270</th>\n",
       "      <td>-0.227963</td>\n",
       "      <td>0.079605</td>\n",
       "      <td>-0.356803</td>\n",
       "      <td>0.178927</td>\n",
       "      <td>-0.180184</td>\n",
       "      <td>-0.164665</td>\n",
       "      <td>-0.430417</td>\n",
       "      <td>0.271543</td>\n",
       "      <td>-0.170860</td>\n",
       "      <td>0.193076</td>\n",
       "      <td>...</td>\n",
       "      <td>-0.247344</td>\n",
       "      <td>0.494586</td>\n",
       "      <td>0.402720</td>\n",
       "      <td>-0.095374</td>\n",
       "      <td>0.699830</td>\n",
       "      <td>-0.060443</td>\n",
       "      <td>0.055708</td>\n",
       "      <td>-0.636437</td>\n",
       "      <td>0.039545</td>\n",
       "      <td>0.323616</td>\n",
       "    </tr>\n",
       "  </tbody>\n",
       "</table>\n",
       "<p>8437 rows × 100 columns</p>\n",
       "</div>"
      ],
      "text/plain": [
       "           col0      col1      col2      col3      col4      col5      col6  \\\n",
       "6004  -0.131073  0.269280  0.920324  0.179975 -0.097885 -0.457157  0.215255   \n",
       "7620  -0.180560  0.650230  0.550954 -0.260067  0.524423 -0.260696  0.110234   \n",
       "10039 -0.149871  0.026913 -0.114367  0.131186  0.165109 -0.172803 -0.116495   \n",
       "8399   0.140008  0.376308  0.177216  0.069007  0.344654 -0.445870 -0.099103   \n",
       "5652   0.166061  0.178930  0.637712  0.021134  0.094804 -0.451073  0.078919   \n",
       "...         ...       ...       ...       ...       ...       ...       ...   \n",
       "5734   0.050953  0.189848  0.525397  0.110373  0.266401 -0.506104  0.445564   \n",
       "5191   0.013950  0.059312  0.307494  0.067910  0.300975 -0.385790  0.435438   \n",
       "5390  -0.312654  0.117613  0.627009  0.338947  0.412120 -0.243837 -0.155320   \n",
       "860   -0.090113  0.354084  0.109905  0.040800  0.255334  0.015545 -0.280851   \n",
       "7270  -0.227963  0.079605 -0.356803  0.178927 -0.180184 -0.164665 -0.430417   \n",
       "\n",
       "           col7      col8      col9  ...     col90     col91     col92  \\\n",
       "6004   0.313429 -0.384135  0.115947  ...  0.317792  0.075763  0.587511   \n",
       "7620   0.025104  0.079398  0.032359  ...  0.106018  0.159904  0.001088   \n",
       "10039  0.445070 -0.311511  0.167410  ...  0.197470  0.117493 -0.168813   \n",
       "8399   0.235592 -0.000284 -0.145447  ...  0.516927 -0.053089 -0.344913   \n",
       "5652   0.131754 -0.371247 -0.018009  ...  0.257828 -0.168240  0.139962   \n",
       "...         ...       ...       ...  ...       ...       ...       ...   \n",
       "5734   0.128665 -0.241012  0.165371  ...  0.198572 -0.230530  0.128304   \n",
       "5191   0.383348 -1.054843  0.581307  ...  0.363379 -0.689159  0.298918   \n",
       "5390  -0.146757 -0.531193  0.036206  ...  0.390864 -0.327408  0.199008   \n",
       "860    0.243885 -0.017260  0.160016  ...  0.298281  0.116908  0.246539   \n",
       "7270   0.271543 -0.170860  0.193076  ... -0.247344  0.494586  0.402720   \n",
       "\n",
       "          col93     col94     col95     col96     col97     col98     col99  \n",
       "6004  -0.179349  0.250120 -0.390737  0.031795 -0.187795  0.030913  0.454198  \n",
       "7620   0.176684  0.017323 -0.288850  0.067044 -0.056375 -0.059306 -0.137998  \n",
       "10039 -0.377488  0.085581  0.091185  0.182234 -0.485311  0.040401 -0.175425  \n",
       "8399   0.008824  0.036404  0.218453  0.122188 -0.108021  0.128908  0.027127  \n",
       "5652   0.180786  0.408216  0.064149 -0.150265 -0.300923 -0.113087  0.341556  \n",
       "...         ...       ...       ...       ...       ...       ...       ...  \n",
       "5734   0.006540  0.375182 -0.138050 -0.113100 -0.485668 -0.333654  0.591043  \n",
       "5191  -0.189828  0.256581 -0.569366 -0.220929 -0.347891 -0.109501  0.284591  \n",
       "5390   0.187205  0.250709 -0.209011  0.141522 -0.431505 -0.095398  0.095299  \n",
       "860    0.088547  0.148385  0.097623 -0.200409 -0.281371 -0.062842 -0.149323  \n",
       "7270  -0.095374  0.699830 -0.060443  0.055708 -0.636437  0.039545  0.323616  \n",
       "\n",
       "[8437 rows x 100 columns]"
      ]
     },
     "execution_count": 207,
     "metadata": {},
     "output_type": "execute_result"
    }
   ],
   "source": [
    "X_train"
   ]
  },
  {
   "cell_type": "markdown",
   "metadata": {},
   "source": [
    "# Logistic Regression"
   ]
  },
  {
   "cell_type": "code",
   "execution_count": 211,
   "metadata": {},
   "outputs": [],
   "source": [
    "lg = LogisticRegression()\n",
    "lg.fit(X_train, y_train)\n",
    "\n",
    "lg_train_pred = lg.predict(X_train)\n",
    "lg_test_pred = lg.predict(X_test)"
   ]
  },
  {
   "cell_type": "code",
   "execution_count": 212,
   "metadata": {},
   "outputs": [
    {
     "data": {
      "text/plain": [
       "(0.8855043261822922, 0.8702452897262709)"
      ]
     },
     "execution_count": 212,
     "metadata": {},
     "output_type": "execute_result"
    }
   ],
   "source": [
    "# (0.885741377266801, 0.8706007820831853)\n",
    "accuracy_score(y_train, lg_train_pred), accuracy_score(y_test, lg_test_pred)"
   ]
  },
  {
   "cell_type": "code",
   "execution_count": 214,
   "metadata": {},
   "outputs": [],
   "source": [
    "save_model(lg, \"LG_Word2Vec\")"
   ]
  },
  {
   "cell_type": "markdown",
   "metadata": {},
   "source": [
    "# Predict on Test"
   ]
  },
  {
   "cell_type": "code",
   "execution_count": 215,
   "metadata": {},
   "outputs": [
    {
     "data": {
      "text/html": [
       "<div>\n",
       "<style scoped>\n",
       "    .dataframe tbody tr th:only-of-type {\n",
       "        vertical-align: middle;\n",
       "    }\n",
       "\n",
       "    .dataframe tbody tr th {\n",
       "        vertical-align: top;\n",
       "    }\n",
       "\n",
       "    .dataframe thead th {\n",
       "        text-align: right;\n",
       "    }\n",
       "</style>\n",
       "<table border=\"1\" class=\"dataframe\">\n",
       "  <thead>\n",
       "    <tr style=\"text-align: right;\">\n",
       "      <th></th>\n",
       "      <th>content</th>\n",
       "    </tr>\n",
       "  </thead>\n",
       "  <tbody>\n",
       "    <tr>\n",
       "      <th>0</th>\n",
       "      <td>Фото: «Фонтанка.ру»ПоделитьсяЭкс-министру обор...</td>\n",
       "    </tr>\n",
       "    <tr>\n",
       "      <th>1</th>\n",
       "      <td>В начале февраля 2023 года в Пушкинском районе...</td>\n",
       "    </tr>\n",
       "    <tr>\n",
       "      <th>2</th>\n",
       "      <td>Фото: Andy Bao / Getty Images Анастасия Борисо...</td>\n",
       "    </tr>\n",
       "    <tr>\n",
       "      <th>3</th>\n",
       "      <td>Если вы хотели, но так и не съездили на море л...</td>\n",
       "    </tr>\n",
       "    <tr>\n",
       "      <th>4</th>\n",
       "      <td>Сергей Пиняев Фото: Алексей Филиппов / РИА Нов...</td>\n",
       "    </tr>\n",
       "  </tbody>\n",
       "</table>\n",
       "</div>"
      ],
      "text/plain": [
       "                                             content\n",
       "0  Фото: «Фонтанка.ру»ПоделитьсяЭкс-министру обор...\n",
       "1  В начале февраля 2023 года в Пушкинском районе...\n",
       "2  Фото: Andy Bao / Getty Images Анастасия Борисо...\n",
       "3  Если вы хотели, но так и не съездили на море л...\n",
       "4  Сергей Пиняев Фото: Алексей Филиппов / РИА Нов..."
      ]
     },
     "execution_count": 215,
     "metadata": {},
     "output_type": "execute_result"
    }
   ],
   "source": [
    "df_test = pd.read_csv(\"data/test_news.csv\").dropna()\n",
    "df_test.head(5)"
   ]
  },
  {
   "cell_type": "code",
   "execution_count": 216,
   "metadata": {},
   "outputs": [
    {
     "data": {
      "text/plain": [
       "(26275, 1)"
      ]
     },
     "execution_count": 216,
     "metadata": {},
     "output_type": "execute_result"
    }
   ],
   "source": [
    "df_test.shape"
   ]
  },
  {
   "cell_type": "code",
   "execution_count": 217,
   "metadata": {},
   "outputs": [],
   "source": [
    "df_test[\"combined_text\"] = df_test[\"content\"].apply(clean_text)"
   ]
  },
  {
   "cell_type": "code",
   "execution_count": 218,
   "metadata": {},
   "outputs": [],
   "source": [
    "df_test2 = df_test[[\"combined_text\"]]"
   ]
  },
  {
   "cell_type": "code",
   "execution_count": 219,
   "metadata": {},
   "outputs": [
    {
     "data": {
      "text/html": [
       "<div>\n",
       "<style scoped>\n",
       "    .dataframe tbody tr th:only-of-type {\n",
       "        vertical-align: middle;\n",
       "    }\n",
       "\n",
       "    .dataframe tbody tr th {\n",
       "        vertical-align: top;\n",
       "    }\n",
       "\n",
       "    .dataframe thead th {\n",
       "        text-align: right;\n",
       "    }\n",
       "</style>\n",
       "<table border=\"1\" class=\"dataframe\">\n",
       "  <thead>\n",
       "    <tr style=\"text-align: right;\">\n",
       "      <th></th>\n",
       "      <th>combined_text</th>\n",
       "    </tr>\n",
       "  </thead>\n",
       "  <tbody>\n",
       "    <tr>\n",
       "      <th>0</th>\n",
       "      <td>фото фонтанкару поделитьсяэксминистру обороны ...</td>\n",
       "    </tr>\n",
       "    <tr>\n",
       "      <th>1</th>\n",
       "      <td>начале февраля года пушкинском районе санктпет...</td>\n",
       "    </tr>\n",
       "    <tr>\n",
       "      <th>2</th>\n",
       "      <td>фото анастасия борисова международная федераци...</td>\n",
       "    </tr>\n",
       "    <tr>\n",
       "      <th>3</th>\n",
       "      <td>хотели съездили море летом читайте дальше это ...</td>\n",
       "    </tr>\n",
       "    <tr>\n",
       "      <th>4</th>\n",
       "      <td>сергей пиняев фото алексей филиппов риа новост...</td>\n",
       "    </tr>\n",
       "    <tr>\n",
       "      <th>...</th>\n",
       "      <td>...</td>\n",
       "    </tr>\n",
       "    <tr>\n",
       "      <th>26270</th>\n",
       "      <td>фото риа новости алевтина запольская главное у...</td>\n",
       "    </tr>\n",
       "    <tr>\n",
       "      <th>26271</th>\n",
       "      <td>вадим гутцайт фото алевтина запольская министр...</td>\n",
       "    </tr>\n",
       "    <tr>\n",
       "      <th>26272</th>\n",
       "      <td>фото олег харсеев коммерсантъ александр курбат...</td>\n",
       "    </tr>\n",
       "    <tr>\n",
       "      <th>26273</th>\n",
       "      <td>владимир зеленский фото варвара кошечкина през...</td>\n",
       "    </tr>\n",
       "    <tr>\n",
       "      <th>26274</th>\n",
       "      <td>фото алевтина запольская азербайджану нужна но...</td>\n",
       "    </tr>\n",
       "  </tbody>\n",
       "</table>\n",
       "<p>26275 rows × 1 columns</p>\n",
       "</div>"
      ],
      "text/plain": [
       "                                           combined_text\n",
       "0      фото фонтанкару поделитьсяэксминистру обороны ...\n",
       "1      начале февраля года пушкинском районе санктпет...\n",
       "2      фото анастасия борисова международная федераци...\n",
       "3      хотели съездили море летом читайте дальше это ...\n",
       "4      сергей пиняев фото алексей филиппов риа новост...\n",
       "...                                                  ...\n",
       "26270  фото риа новости алевтина запольская главное у...\n",
       "26271  вадим гутцайт фото алевтина запольская министр...\n",
       "26272  фото олег харсеев коммерсантъ александр курбат...\n",
       "26273  владимир зеленский фото варвара кошечкина през...\n",
       "26274  фото алевтина запольская азербайджану нужна но...\n",
       "\n",
       "[26275 rows x 1 columns]"
      ]
     },
     "execution_count": 219,
     "metadata": {},
     "output_type": "execute_result"
    }
   ],
   "source": [
    "df_test2"
   ]
  },
  {
   "cell_type": "code",
   "execution_count": 224,
   "metadata": {},
   "outputs": [],
   "source": [
    "df_test3, y = w2v_processing(df_test2)"
   ]
  },
  {
   "cell_type": "code",
   "execution_count": 225,
   "metadata": {},
   "outputs": [
    {
     "data": {
      "text/plain": [
       "(26275, 100)"
      ]
     },
     "execution_count": 225,
     "metadata": {},
     "output_type": "execute_result"
    }
   ],
   "source": [
    "df_test3.shape"
   ]
  },
  {
   "cell_type": "code",
   "execution_count": 226,
   "metadata": {},
   "outputs": [],
   "source": [
    "df_test_pred = lg.predict(df_test3)"
   ]
  },
  {
   "cell_type": "code",
   "execution_count": 227,
   "metadata": {},
   "outputs": [
    {
     "data": {
      "text/plain": [
       "(26275,)"
      ]
     },
     "execution_count": 227,
     "metadata": {},
     "output_type": "execute_result"
    }
   ],
   "source": [
    "df_test_pred.shape"
   ]
  },
  {
   "cell_type": "code",
   "execution_count": 228,
   "metadata": {},
   "outputs": [],
   "source": [
    "predictions_df = pd.DataFrame(df_test_pred, columns=['topic'])\n",
    "predictions_df['index'] = predictions_df.index"
   ]
  },
  {
   "cell_type": "code",
   "execution_count": 229,
   "metadata": {},
   "outputs": [
    {
     "data": {
      "text/plain": [
       "(26275, 2)"
      ]
     },
     "execution_count": 229,
     "metadata": {},
     "output_type": "execute_result"
    }
   ],
   "source": [
    "predictions_df.shape"
   ]
  },
  {
   "cell_type": "code",
   "execution_count": 230,
   "metadata": {},
   "outputs": [
    {
     "data": {
      "text/html": [
       "<div>\n",
       "<style scoped>\n",
       "    .dataframe tbody tr th:only-of-type {\n",
       "        vertical-align: middle;\n",
       "    }\n",
       "\n",
       "    .dataframe tbody tr th {\n",
       "        vertical-align: top;\n",
       "    }\n",
       "\n",
       "    .dataframe thead th {\n",
       "        text-align: right;\n",
       "    }\n",
       "</style>\n",
       "<table border=\"1\" class=\"dataframe\">\n",
       "  <thead>\n",
       "    <tr style=\"text-align: right;\">\n",
       "      <th></th>\n",
       "      <th>topic</th>\n",
       "      <th>index</th>\n",
       "    </tr>\n",
       "  </thead>\n",
       "  <tbody>\n",
       "    <tr>\n",
       "      <th>0</th>\n",
       "      <td>0</td>\n",
       "      <td>0</td>\n",
       "    </tr>\n",
       "    <tr>\n",
       "      <th>1</th>\n",
       "      <td>6</td>\n",
       "      <td>1</td>\n",
       "    </tr>\n",
       "    <tr>\n",
       "      <th>2</th>\n",
       "      <td>4</td>\n",
       "      <td>2</td>\n",
       "    </tr>\n",
       "    <tr>\n",
       "      <th>3</th>\n",
       "      <td>7</td>\n",
       "      <td>3</td>\n",
       "    </tr>\n",
       "    <tr>\n",
       "      <th>4</th>\n",
       "      <td>4</td>\n",
       "      <td>4</td>\n",
       "    </tr>\n",
       "    <tr>\n",
       "      <th>...</th>\n",
       "      <td>...</td>\n",
       "      <td>...</td>\n",
       "    </tr>\n",
       "    <tr>\n",
       "      <th>26270</th>\n",
       "      <td>3</td>\n",
       "      <td>26270</td>\n",
       "    </tr>\n",
       "    <tr>\n",
       "      <th>26271</th>\n",
       "      <td>3</td>\n",
       "      <td>26271</td>\n",
       "    </tr>\n",
       "    <tr>\n",
       "      <th>26272</th>\n",
       "      <td>3</td>\n",
       "      <td>26272</td>\n",
       "    </tr>\n",
       "    <tr>\n",
       "      <th>26273</th>\n",
       "      <td>3</td>\n",
       "      <td>26273</td>\n",
       "    </tr>\n",
       "    <tr>\n",
       "      <th>26274</th>\n",
       "      <td>3</td>\n",
       "      <td>26274</td>\n",
       "    </tr>\n",
       "  </tbody>\n",
       "</table>\n",
       "<p>26275 rows × 2 columns</p>\n",
       "</div>"
      ],
      "text/plain": [
       "       topic  index\n",
       "0          0      0\n",
       "1          6      1\n",
       "2          4      2\n",
       "3          7      3\n",
       "4          4      4\n",
       "...      ...    ...\n",
       "26270      3  26270\n",
       "26271      3  26271\n",
       "26272      3  26272\n",
       "26273      3  26273\n",
       "26274      3  26274\n",
       "\n",
       "[26275 rows x 2 columns]"
      ]
     },
     "execution_count": 230,
     "metadata": {},
     "output_type": "execute_result"
    }
   ],
   "source": [
    "predictions_df"
   ]
  },
  {
   "cell_type": "code",
   "execution_count": 233,
   "metadata": {},
   "outputs": [],
   "source": [
    "predictions_df.to_csv(\"data/precits/predict_2.csv\", index=False)"
   ]
  },
  {
   "cell_type": "code",
   "execution_count": null,
   "metadata": {},
   "outputs": [],
   "source": []
  }
 ],
 "metadata": {
  "kernelspec": {
   "display_name": "Python 3",
   "language": "python",
   "name": "python3"
  },
  "language_info": {
   "codemirror_mode": {
    "name": "ipython",
    "version": 3
   },
   "file_extension": ".py",
   "mimetype": "text/x-python",
   "name": "python",
   "nbconvert_exporter": "python",
   "pygments_lexer": "ipython3",
   "version": "3.10.0"
  }
 },
 "nbformat": 4,
 "nbformat_minor": 2
}
